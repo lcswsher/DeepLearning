{
 "cells": [
  {
   "cell_type": "markdown",
   "id": "07b5acf4-7a14-48ff-9cbc-e1988e3e2732",
   "metadata": {},
   "source": [
    "## Optimize the Model"
   ]
  },
  {
   "cell_type": "code",
   "execution_count": 1,
   "id": "25895ca6-67e4-4f76-bf3a-d2efa0b52253",
   "metadata": {},
   "outputs": [
    {
     "data": {
      "text/html": [
       "<div>\n",
       "<style scoped>\n",
       "    .dataframe tbody tr th:only-of-type {\n",
       "        vertical-align: middle;\n",
       "    }\n",
       "\n",
       "    .dataframe tbody tr th {\n",
       "        vertical-align: top;\n",
       "    }\n",
       "\n",
       "    .dataframe thead th {\n",
       "        text-align: right;\n",
       "    }\n",
       "</style>\n",
       "<table border=\"1\" class=\"dataframe\">\n",
       "  <thead>\n",
       "    <tr style=\"text-align: right;\">\n",
       "      <th></th>\n",
       "      <th>EIN</th>\n",
       "      <th>NAME</th>\n",
       "      <th>APPLICATION_TYPE</th>\n",
       "      <th>AFFILIATION</th>\n",
       "      <th>CLASSIFICATION</th>\n",
       "      <th>USE_CASE</th>\n",
       "      <th>ORGANIZATION</th>\n",
       "      <th>STATUS</th>\n",
       "      <th>INCOME_AMT</th>\n",
       "      <th>SPECIAL_CONSIDERATIONS</th>\n",
       "      <th>ASK_AMT</th>\n",
       "      <th>IS_SUCCESSFUL</th>\n",
       "    </tr>\n",
       "  </thead>\n",
       "  <tbody>\n",
       "    <tr>\n",
       "      <th>0</th>\n",
       "      <td>10520599</td>\n",
       "      <td>BLUE KNIGHTS MOTORCYCLE CLUB</td>\n",
       "      <td>T10</td>\n",
       "      <td>Independent</td>\n",
       "      <td>C1000</td>\n",
       "      <td>ProductDev</td>\n",
       "      <td>Association</td>\n",
       "      <td>1</td>\n",
       "      <td>0</td>\n",
       "      <td>N</td>\n",
       "      <td>5000</td>\n",
       "      <td>1</td>\n",
       "    </tr>\n",
       "    <tr>\n",
       "      <th>1</th>\n",
       "      <td>10531628</td>\n",
       "      <td>AMERICAN CHESAPEAKE CLUB CHARITABLE TR</td>\n",
       "      <td>T3</td>\n",
       "      <td>Independent</td>\n",
       "      <td>C2000</td>\n",
       "      <td>Preservation</td>\n",
       "      <td>Co-operative</td>\n",
       "      <td>1</td>\n",
       "      <td>1-9999</td>\n",
       "      <td>N</td>\n",
       "      <td>108590</td>\n",
       "      <td>1</td>\n",
       "    </tr>\n",
       "    <tr>\n",
       "      <th>2</th>\n",
       "      <td>10547893</td>\n",
       "      <td>ST CLOUD PROFESSIONAL FIREFIGHTERS</td>\n",
       "      <td>T5</td>\n",
       "      <td>CompanySponsored</td>\n",
       "      <td>C3000</td>\n",
       "      <td>ProductDev</td>\n",
       "      <td>Association</td>\n",
       "      <td>1</td>\n",
       "      <td>0</td>\n",
       "      <td>N</td>\n",
       "      <td>5000</td>\n",
       "      <td>0</td>\n",
       "    </tr>\n",
       "    <tr>\n",
       "      <th>3</th>\n",
       "      <td>10553066</td>\n",
       "      <td>SOUTHSIDE ATHLETIC ASSOCIATION</td>\n",
       "      <td>T3</td>\n",
       "      <td>CompanySponsored</td>\n",
       "      <td>C2000</td>\n",
       "      <td>Preservation</td>\n",
       "      <td>Trust</td>\n",
       "      <td>1</td>\n",
       "      <td>10000-24999</td>\n",
       "      <td>N</td>\n",
       "      <td>6692</td>\n",
       "      <td>1</td>\n",
       "    </tr>\n",
       "    <tr>\n",
       "      <th>4</th>\n",
       "      <td>10556103</td>\n",
       "      <td>GENETIC RESEARCH INSTITUTE OF THE DESERT</td>\n",
       "      <td>T3</td>\n",
       "      <td>Independent</td>\n",
       "      <td>C1000</td>\n",
       "      <td>Heathcare</td>\n",
       "      <td>Trust</td>\n",
       "      <td>1</td>\n",
       "      <td>100000-499999</td>\n",
       "      <td>N</td>\n",
       "      <td>142590</td>\n",
       "      <td>1</td>\n",
       "    </tr>\n",
       "  </tbody>\n",
       "</table>\n",
       "</div>"
      ],
      "text/plain": [
       "        EIN                                      NAME APPLICATION_TYPE  \\\n",
       "0  10520599              BLUE KNIGHTS MOTORCYCLE CLUB              T10   \n",
       "1  10531628    AMERICAN CHESAPEAKE CLUB CHARITABLE TR               T3   \n",
       "2  10547893        ST CLOUD PROFESSIONAL FIREFIGHTERS               T5   \n",
       "3  10553066            SOUTHSIDE ATHLETIC ASSOCIATION               T3   \n",
       "4  10556103  GENETIC RESEARCH INSTITUTE OF THE DESERT               T3   \n",
       "\n",
       "        AFFILIATION CLASSIFICATION      USE_CASE  ORGANIZATION  STATUS  \\\n",
       "0       Independent          C1000    ProductDev   Association       1   \n",
       "1       Independent          C2000  Preservation  Co-operative       1   \n",
       "2  CompanySponsored          C3000    ProductDev   Association       1   \n",
       "3  CompanySponsored          C2000  Preservation         Trust       1   \n",
       "4       Independent          C1000     Heathcare         Trust       1   \n",
       "\n",
       "      INCOME_AMT SPECIAL_CONSIDERATIONS  ASK_AMT  IS_SUCCESSFUL  \n",
       "0              0                      N     5000              1  \n",
       "1         1-9999                      N   108590              1  \n",
       "2              0                      N     5000              0  \n",
       "3    10000-24999                      N     6692              1  \n",
       "4  100000-499999                      N   142590              1  "
      ]
     },
     "execution_count": 1,
     "metadata": {},
     "output_type": "execute_result"
    }
   ],
   "source": [
    "# Import our dependencies\n",
    "from sklearn.model_selection import train_test_split\n",
    "from sklearn.preprocessing import StandardScaler\n",
    "import pandas as pd\n",
    "import tensorflow as tf\n",
    "\n",
    "#  Import and read the charity_data.csv.\n",
    "import pandas as pd \n",
    "application_df = pd.read_csv(\"Resources/charity_data.csv\")\n",
    "application_df.head()"
   ]
  },
  {
   "cell_type": "code",
   "execution_count": 2,
   "id": "b7bf8f57-6bb7-4a1d-bd17-2ab88ae4db19",
   "metadata": {},
   "outputs": [],
   "source": [
    "# Drop the non-beneficial ID columns, 'EIN' and 'NAME'.\n",
    "#  YOUR CODE GOES HERE\n",
    "application_df = application_df.drop(['EIN', 'NAME', 'SPECIAL_CONSIDERATIONS'], axis = 1)"
   ]
  },
  {
   "cell_type": "code",
   "execution_count": 3,
   "id": "42f3a08c-e80a-4836-bf5e-b17ba4da8d37",
   "metadata": {},
   "outputs": [
    {
     "data": {
      "text/plain": [
       "(34299, 9)"
      ]
     },
     "execution_count": 3,
     "metadata": {},
     "output_type": "execute_result"
    }
   ],
   "source": [
    "application_df.shape"
   ]
  },
  {
   "cell_type": "code",
   "execution_count": 4,
   "id": "023bdab0-c307-455b-9b51-af52da91200c",
   "metadata": {},
   "outputs": [
    {
     "data": {
      "text/html": [
       "<div>\n",
       "<style scoped>\n",
       "    .dataframe tbody tr th:only-of-type {\n",
       "        vertical-align: middle;\n",
       "    }\n",
       "\n",
       "    .dataframe tbody tr th {\n",
       "        vertical-align: top;\n",
       "    }\n",
       "\n",
       "    .dataframe thead th {\n",
       "        text-align: right;\n",
       "    }\n",
       "</style>\n",
       "<table border=\"1\" class=\"dataframe\">\n",
       "  <thead>\n",
       "    <tr style=\"text-align: right;\">\n",
       "      <th></th>\n",
       "      <th>APPLICATION_TYPE</th>\n",
       "      <th>AFFILIATION</th>\n",
       "      <th>CLASSIFICATION</th>\n",
       "      <th>USE_CASE</th>\n",
       "      <th>ORGANIZATION</th>\n",
       "      <th>STATUS</th>\n",
       "      <th>INCOME_AMT</th>\n",
       "      <th>ASK_AMT</th>\n",
       "      <th>IS_SUCCESSFUL</th>\n",
       "    </tr>\n",
       "  </thead>\n",
       "  <tbody>\n",
       "    <tr>\n",
       "      <th>0</th>\n",
       "      <td>T10</td>\n",
       "      <td>Independent</td>\n",
       "      <td>C1000</td>\n",
       "      <td>ProductDev</td>\n",
       "      <td>Association</td>\n",
       "      <td>1</td>\n",
       "      <td>0</td>\n",
       "      <td>5000</td>\n",
       "      <td>1</td>\n",
       "    </tr>\n",
       "    <tr>\n",
       "      <th>1</th>\n",
       "      <td>T3</td>\n",
       "      <td>Independent</td>\n",
       "      <td>C2000</td>\n",
       "      <td>Preservation</td>\n",
       "      <td>Co-operative</td>\n",
       "      <td>1</td>\n",
       "      <td>1-9999</td>\n",
       "      <td>108590</td>\n",
       "      <td>1</td>\n",
       "    </tr>\n",
       "    <tr>\n",
       "      <th>2</th>\n",
       "      <td>T5</td>\n",
       "      <td>CompanySponsored</td>\n",
       "      <td>C3000</td>\n",
       "      <td>ProductDev</td>\n",
       "      <td>Association</td>\n",
       "      <td>1</td>\n",
       "      <td>0</td>\n",
       "      <td>5000</td>\n",
       "      <td>0</td>\n",
       "    </tr>\n",
       "    <tr>\n",
       "      <th>3</th>\n",
       "      <td>T3</td>\n",
       "      <td>CompanySponsored</td>\n",
       "      <td>C2000</td>\n",
       "      <td>Preservation</td>\n",
       "      <td>Trust</td>\n",
       "      <td>1</td>\n",
       "      <td>10000-24999</td>\n",
       "      <td>6692</td>\n",
       "      <td>1</td>\n",
       "    </tr>\n",
       "    <tr>\n",
       "      <th>4</th>\n",
       "      <td>T3</td>\n",
       "      <td>Independent</td>\n",
       "      <td>C1000</td>\n",
       "      <td>Heathcare</td>\n",
       "      <td>Trust</td>\n",
       "      <td>1</td>\n",
       "      <td>100000-499999</td>\n",
       "      <td>142590</td>\n",
       "      <td>1</td>\n",
       "    </tr>\n",
       "  </tbody>\n",
       "</table>\n",
       "</div>"
      ],
      "text/plain": [
       "  APPLICATION_TYPE       AFFILIATION CLASSIFICATION      USE_CASE  \\\n",
       "0              T10       Independent          C1000    ProductDev   \n",
       "1               T3       Independent          C2000  Preservation   \n",
       "2               T5  CompanySponsored          C3000    ProductDev   \n",
       "3               T3  CompanySponsored          C2000  Preservation   \n",
       "4               T3       Independent          C1000     Heathcare   \n",
       "\n",
       "   ORGANIZATION  STATUS     INCOME_AMT  ASK_AMT  IS_SUCCESSFUL  \n",
       "0   Association       1              0     5000              1  \n",
       "1  Co-operative       1         1-9999   108590              1  \n",
       "2   Association       1              0     5000              0  \n",
       "3         Trust       1    10000-24999     6692              1  \n",
       "4         Trust       1  100000-499999   142590              1  "
      ]
     },
     "execution_count": 4,
     "metadata": {},
     "output_type": "execute_result"
    }
   ],
   "source": [
    "application_df.head()"
   ]
  },
  {
   "cell_type": "code",
   "execution_count": 5,
   "id": "7d4fa976-1156-4f02-b0c0-474b955e9787",
   "metadata": {},
   "outputs": [],
   "source": [
    "# application_df['INCOME_AMT'].value_counts()"
   ]
  },
  {
   "cell_type": "code",
   "execution_count": 6,
   "id": "d41163e3-4f89-4fdb-a2ed-76ba6ff3a1d4",
   "metadata": {},
   "outputs": [
    {
     "data": {
      "text/plain": [
       "APPLICATION_TYPE      17\n",
       "AFFILIATION            6\n",
       "CLASSIFICATION        71\n",
       "USE_CASE               5\n",
       "ORGANIZATION           4\n",
       "STATUS                 2\n",
       "INCOME_AMT             9\n",
       "ASK_AMT             8747\n",
       "IS_SUCCESSFUL          2\n",
       "dtype: int64"
      ]
     },
     "execution_count": 6,
     "metadata": {},
     "output_type": "execute_result"
    }
   ],
   "source": [
    "# Determine the number of unique values in each column.\n",
    "application_df.nunique()"
   ]
  },
  {
   "cell_type": "code",
   "execution_count": 7,
   "id": "e9e393d7-e764-4676-9c3f-413148d50f56",
   "metadata": {},
   "outputs": [
    {
     "data": {
      "text/plain": [
       "T3     27037\n",
       "T4      1542\n",
       "T6      1216\n",
       "T5      1173\n",
       "T19     1065\n",
       "T8       737\n",
       "T7       725\n",
       "T10      528\n",
       "T9       156\n",
       "T13       66\n",
       "T12       27\n",
       "T2        16\n",
       "T25        3\n",
       "T14        3\n",
       "T29        2\n",
       "T15        2\n",
       "T17        1\n",
       "Name: APPLICATION_TYPE, dtype: int64"
      ]
     },
     "execution_count": 7,
     "metadata": {},
     "output_type": "execute_result"
    }
   ],
   "source": [
    "# Look at APPLICATION_TYPE value counts for binning\n",
    "#  YOUR CODE GOES HERE\n",
    "application_df['APPLICATION_TYPE'].value_counts()"
   ]
  },
  {
   "cell_type": "code",
   "execution_count": 8,
   "id": "fabaa51a-df53-41eb-9714-3da12738b25b",
   "metadata": {},
   "outputs": [
    {
     "data": {
      "text/plain": [
       "T3       27037\n",
       "T4        1542\n",
       "T6        1216\n",
       "T5        1173\n",
       "T19       1065\n",
       "T8         737\n",
       "T7         725\n",
       "T10        528\n",
       "Other      276\n",
       "Name: APPLICATION_TYPE, dtype: int64"
      ]
     },
     "execution_count": 8,
     "metadata": {},
     "output_type": "execute_result"
    }
   ],
   "source": [
    "# Choose a cutoff value and create a list of application types to be replaced\n",
    "# use the variable name `application_types_to_replace`\n",
    "#  YOUR CODE GOES HERE\n",
    "application_types_to_replace = ('T9', 'T13', 'T12', 'T2', 'T14', 'T25', 'T15', 'T29', 'T17')\n",
    "\n",
    "# Replace in dataframe\n",
    "for app in application_types_to_replace:\n",
    "    application_df['APPLICATION_TYPE'] = application_df['APPLICATION_TYPE'].replace(app,\"Other\")\n",
    "\n",
    "# Check to make sure binning was successful\n",
    "application_df['APPLICATION_TYPE'].value_counts()"
   ]
  },
  {
   "cell_type": "code",
   "execution_count": 9,
   "id": "6fae73ad-ed07-4a3a-9922-4235e618988a",
   "metadata": {},
   "outputs": [
    {
     "data": {
      "text/plain": [
       "C1000    17326\n",
       "C2000     6074\n",
       "C1200     4837\n",
       "C3000     1918\n",
       "C2100     1883\n",
       "         ...  \n",
       "C2170        1\n",
       "C2561        1\n",
       "C4500        1\n",
       "C4200        1\n",
       "C1728        1\n",
       "Name: CLASSIFICATION, Length: 71, dtype: int64"
      ]
     },
     "execution_count": 9,
     "metadata": {},
     "output_type": "execute_result"
    }
   ],
   "source": [
    "# Look at CLASSIFICATION value counts for binning\n",
    "application_df['CLASSIFICATION'].value_counts()"
   ]
  },
  {
   "cell_type": "code",
   "execution_count": 10,
   "id": "8b160471-6d65-4e93-b773-3c2db3a40158",
   "metadata": {},
   "outputs": [
    {
     "data": {
      "text/plain": [
       "C1000    17326\n",
       "C2000     6074\n",
       "C1200     4837\n",
       "C3000     1918\n",
       "C2100     1883\n",
       "C7000      777\n",
       "C1700      287\n",
       "C4000      194\n",
       "C5000      116\n",
       "C1270      114\n",
       "C2700      104\n",
       "C2800       95\n",
       "C7100       75\n",
       "C1300       58\n",
       "C1280       50\n",
       "C1230       36\n",
       "C1400       34\n",
       "C2300       32\n",
       "C7200       32\n",
       "C1240       30\n",
       "C8000       20\n",
       "C7120       18\n",
       "C1500       16\n",
       "C6000       15\n",
       "C1800       15\n",
       "C1250       14\n",
       "C8200       11\n",
       "C1238       10\n",
       "C1278       10\n",
       "C1237        9\n",
       "C1235        9\n",
       "C7210        7\n",
       "C4100        6\n",
       "C2400        6\n",
       "C1720        6\n",
       "C1600        5\n",
       "C1257        5\n",
       "C1260        3\n",
       "C2710        3\n",
       "C0           3\n",
       "C3200        2\n",
       "C1246        2\n",
       "C1256        2\n",
       "C1234        2\n",
       "C1267        2\n",
       "Name: CLASSIFICATION, dtype: int64"
      ]
     },
     "execution_count": 10,
     "metadata": {},
     "output_type": "execute_result"
    }
   ],
   "source": [
    "# You may find it helpful to look at CLASSIFICATION value counts >1\n",
    "#  YOUR CODE GOES HERE\n",
    "application_df['CLASSIFICATION'].value_counts().loc[lambda x : x>1]"
   ]
  },
  {
   "cell_type": "code",
   "execution_count": 11,
   "id": "659aed9b-f347-48b0-bccc-4154ddd15504",
   "metadata": {},
   "outputs": [
    {
     "data": {
      "text/plain": [
       "C1000    17326\n",
       "C2000     6074\n",
       "C1200     4837\n",
       "Other     2261\n",
       "C3000     1918\n",
       "C2100     1883\n",
       "Name: CLASSIFICATION, dtype: int64"
      ]
     },
     "execution_count": 11,
     "metadata": {},
     "output_type": "execute_result"
    }
   ],
   "source": [
    "# Choose a cutoff value and create a list of classifications to be replaced\n",
    "# use the variable name `classifications_to_replace`\n",
    "#  YOUR CODE GOES HERE\n",
    "classifications_to_replace = application_df['CLASSIFICATION'].value_counts().loc[lambda x : x < 1883]\n",
    "classifications_to_replace = pd.DataFrame(classifications_to_replace)\n",
    "classifications_to_replace = classifications_to_replace.index.to_list()\n",
    "\n",
    "# Replace in dataframe\n",
    "for cls in classifications_to_replace:\n",
    "    application_df['CLASSIFICATION'] = application_df['CLASSIFICATION'].replace(cls,\"Other\")\n",
    "    \n",
    "# Check to make sure binning was successful\n",
    "application_df['CLASSIFICATION'].value_counts()"
   ]
  },
  {
   "cell_type": "code",
   "execution_count": 12,
   "id": "3e24b9c2-1209-4e05-9ee0-12691db3d60a",
   "metadata": {},
   "outputs": [
    {
     "data": {
      "text/plain": [
       "APPLICATION_TYPE       9\n",
       "AFFILIATION            6\n",
       "CLASSIFICATION         6\n",
       "USE_CASE               5\n",
       "ORGANIZATION           4\n",
       "STATUS                 2\n",
       "INCOME_AMT             9\n",
       "ASK_AMT             8747\n",
       "IS_SUCCESSFUL          2\n",
       "dtype: int64"
      ]
     },
     "execution_count": 12,
     "metadata": {},
     "output_type": "execute_result"
    }
   ],
   "source": [
    "# Results after binning dataframe application_df\n",
    "application_df.nunique()"
   ]
  },
  {
   "cell_type": "code",
   "execution_count": 13,
   "id": "ba081f08-a53f-42c3-8af5-50f8ae029e83",
   "metadata": {},
   "outputs": [
    {
     "name": "stdout",
     "output_type": "stream",
     "text": [
      "<class 'pandas.core.frame.DataFrame'>\n",
      "RangeIndex: 34299 entries, 0 to 34298\n",
      "Data columns (total 9 columns):\n",
      " #   Column            Non-Null Count  Dtype \n",
      "---  ------            --------------  ----- \n",
      " 0   APPLICATION_TYPE  34299 non-null  object\n",
      " 1   AFFILIATION       34299 non-null  object\n",
      " 2   CLASSIFICATION    34299 non-null  object\n",
      " 3   USE_CASE          34299 non-null  object\n",
      " 4   ORGANIZATION      34299 non-null  object\n",
      " 5   STATUS            34299 non-null  int64 \n",
      " 6   INCOME_AMT        34299 non-null  object\n",
      " 7   ASK_AMT           34299 non-null  int64 \n",
      " 8   IS_SUCCESSFUL     34299 non-null  int64 \n",
      "dtypes: int64(3), object(6)\n",
      "memory usage: 2.4+ MB\n"
     ]
    }
   ],
   "source": [
    "application_df.info()"
   ]
  },
  {
   "cell_type": "code",
   "execution_count": 14,
   "id": "d3c63f77-4db8-44cf-a57d-b2635aafcd4b",
   "metadata": {},
   "outputs": [],
   "source": [
    "# Convert categorical data to numeric with `pd.get_dummies`\n",
    "#  YOUR CODE GOES HERE\n",
    "application_df_with_dummies = pd.get_dummies(application_df, columns=['APPLICATION_TYPE', 'AFFILIATION', 'CLASSIFICATION', 'USE_CASE', 'ORGANIZATION', 'INCOME_AMT'],drop_first=True, dtype=float)\n",
    "# application_df_with_dummies = pd.get_dummies(application_df, drop_first=True, dtype=float)"
   ]
  },
  {
   "cell_type": "code",
   "execution_count": 15,
   "id": "4db70ec6-fac0-440c-9406-4feb57c26473",
   "metadata": {},
   "outputs": [
    {
     "data": {
      "text/plain": [
       "(34299, 36)"
      ]
     },
     "execution_count": 15,
     "metadata": {},
     "output_type": "execute_result"
    }
   ],
   "source": [
    "application_df_with_dummies.shape"
   ]
  },
  {
   "cell_type": "code",
   "execution_count": 16,
   "id": "902fd242-afb6-4d16-893d-58c682939bc5",
   "metadata": {},
   "outputs": [
    {
     "name": "stdout",
     "output_type": "stream",
     "text": [
      "<class 'pandas.core.frame.DataFrame'>\n",
      "RangeIndex: 34299 entries, 0 to 34298\n",
      "Data columns (total 36 columns):\n",
      " #   Column                     Non-Null Count  Dtype  \n",
      "---  ------                     --------------  -----  \n",
      " 0   STATUS                     34299 non-null  int64  \n",
      " 1   ASK_AMT                    34299 non-null  int64  \n",
      " 2   IS_SUCCESSFUL              34299 non-null  int64  \n",
      " 3   APPLICATION_TYPE_T10       34299 non-null  float64\n",
      " 4   APPLICATION_TYPE_T19       34299 non-null  float64\n",
      " 5   APPLICATION_TYPE_T3        34299 non-null  float64\n",
      " 6   APPLICATION_TYPE_T4        34299 non-null  float64\n",
      " 7   APPLICATION_TYPE_T5        34299 non-null  float64\n",
      " 8   APPLICATION_TYPE_T6        34299 non-null  float64\n",
      " 9   APPLICATION_TYPE_T7        34299 non-null  float64\n",
      " 10  APPLICATION_TYPE_T8        34299 non-null  float64\n",
      " 11  AFFILIATION_Family/Parent  34299 non-null  float64\n",
      " 12  AFFILIATION_Independent    34299 non-null  float64\n",
      " 13  AFFILIATION_National       34299 non-null  float64\n",
      " 14  AFFILIATION_Other          34299 non-null  float64\n",
      " 15  AFFILIATION_Regional       34299 non-null  float64\n",
      " 16  CLASSIFICATION_C1200       34299 non-null  float64\n",
      " 17  CLASSIFICATION_C2000       34299 non-null  float64\n",
      " 18  CLASSIFICATION_C2100       34299 non-null  float64\n",
      " 19  CLASSIFICATION_C3000       34299 non-null  float64\n",
      " 20  CLASSIFICATION_Other       34299 non-null  float64\n",
      " 21  USE_CASE_Heathcare         34299 non-null  float64\n",
      " 22  USE_CASE_Other             34299 non-null  float64\n",
      " 23  USE_CASE_Preservation      34299 non-null  float64\n",
      " 24  USE_CASE_ProductDev        34299 non-null  float64\n",
      " 25  ORGANIZATION_Co-operative  34299 non-null  float64\n",
      " 26  ORGANIZATION_Corporation   34299 non-null  float64\n",
      " 27  ORGANIZATION_Trust         34299 non-null  float64\n",
      " 28  INCOME_AMT_1-9999          34299 non-null  float64\n",
      " 29  INCOME_AMT_10000-24999     34299 non-null  float64\n",
      " 30  INCOME_AMT_100000-499999   34299 non-null  float64\n",
      " 31  INCOME_AMT_10M-50M         34299 non-null  float64\n",
      " 32  INCOME_AMT_1M-5M           34299 non-null  float64\n",
      " 33  INCOME_AMT_25000-99999     34299 non-null  float64\n",
      " 34  INCOME_AMT_50M+            34299 non-null  float64\n",
      " 35  INCOME_AMT_5M-10M          34299 non-null  float64\n",
      "dtypes: float64(33), int64(3)\n",
      "memory usage: 9.4 MB\n"
     ]
    }
   ],
   "source": [
    "application_df_with_dummies.info()"
   ]
  },
  {
   "cell_type": "code",
   "execution_count": 17,
   "id": "39190aa8-a806-4314-9a43-3d89e7f1a600",
   "metadata": {},
   "outputs": [],
   "source": [
    "# Split our preprocessed data into our features and target arrays\n",
    "#  YOUR CODE GOES HERE\n",
    "X = application_df_with_dummies.drop(['IS_SUCCESSFUL'], axis=1)\n",
    "y = application_df_with_dummies['IS_SUCCESSFUL']\n",
    "\n",
    "# Split the preprocessed data into a training and testing dataset\n",
    "#  YOUR CODE GOES HERE\n",
    "X_train, X_test, y_train, y_test = train_test_split(X, y, random_state=42)"
   ]
  },
  {
   "cell_type": "code",
   "execution_count": 18,
   "id": "fce31fed-4199-4536-aa15-118676d03e6d",
   "metadata": {},
   "outputs": [],
   "source": [
    "# Create a StandardScaler instances\n",
    "scaler = StandardScaler()\n",
    "\n",
    "# Fit the StandardScaler\n",
    "X_scaler = scaler.fit(X_train)\n",
    "\n",
    "# Scale the data\n",
    "X_train_scaled = X_scaler.transform(X_train)\n",
    "X_test_scaled = X_scaler.transform(X_test)"
   ]
  },
  {
   "cell_type": "code",
   "execution_count": 19,
   "id": "c113f2fd-c8a8-4d49-99a7-73a977559bb8",
   "metadata": {},
   "outputs": [
    {
     "data": {
      "text/plain": [
       "35"
      ]
     },
     "execution_count": 19,
     "metadata": {},
     "output_type": "execute_result"
    }
   ],
   "source": [
    "number_of_input_features = len(X_train.columns)\n",
    "number_of_input_features"
   ]
  },
  {
   "cell_type": "markdown",
   "id": "52924fe4-5b48-4feb-a184-5aad633d2ec5",
   "metadata": {},
   "source": [
    "##  Compile, Train and Evaluate the Model"
   ]
  },
  {
   "cell_type": "code",
   "execution_count": 20,
   "id": "23938b63-ea93-414a-b628-2452b69b9cf3",
   "metadata": {},
   "outputs": [
    {
     "name": "stdout",
     "output_type": "stream",
     "text": [
      "Model: \"sequential\"\n",
      "_________________________________________________________________\n",
      "Layer (type)                 Output Shape              Param #   \n",
      "=================================================================\n",
      "dense (Dense)                (None, 700)               25200     \n",
      "_________________________________________________________________\n",
      "dense_1 (Dense)              (None, 700)               490700    \n",
      "_________________________________________________________________\n",
      "dense_2 (Dense)              (None, 700)               490700    \n",
      "_________________________________________________________________\n",
      "dense_3 (Dense)              (None, 700)               490700    \n",
      "_________________________________________________________________\n",
      "dense_4 (Dense)              (None, 1)                 701       \n",
      "=================================================================\n",
      "Total params: 1,498,001\n",
      "Trainable params: 1,498,001\n",
      "Non-trainable params: 0\n",
      "_________________________________________________________________\n"
     ]
    }
   ],
   "source": [
    "# Define the model - deep neural net, i.e., the number of input features and hidden nodes for each layer.\n",
    "#  YOUR CODE GOES HERE\n",
    "\n",
    "nn = tf.keras.models.Sequential()\n",
    "\n",
    "# First hidden layer\n",
    "#  YOUR CODE GOES HERE\n",
    "nn.add(tf.keras.layers.Dense(units=700, activation=\"relu\", input_dim=35))\n",
    "# Second hidden layer\n",
    "#  YOUR CODE GOES HERE\n",
    "nn.add(tf.keras.layers.Dense(units=700, activation=\"relu\"))\n",
    "# third hidden layer\n",
    "#  YOUR CODE GOES HERE\n",
    "nn.add(tf.keras.layers.Dense(units=700, activation=\"relu\"))\n",
    "# Fourth hidden layer\n",
    "#  YOUR CODE GOES HERE\n",
    "nn.add(tf.keras.layers.Dense(units=700, activation=\"relu\"))\n",
    "# Output layer\n",
    "#  YOUR CODE GOES HERE\n",
    "nn.add(tf.keras.layers.Dense(units=1, activation=\"sigmoid\"))\n",
    "# Check the structure of the model\n",
    "nn.summary()"
   ]
  },
  {
   "cell_type": "code",
   "execution_count": 21,
   "id": "77ccefec-1c44-415b-99af-b88ff0ce2045",
   "metadata": {},
   "outputs": [],
   "source": [
    "# import checkpoint dependencies\n",
    "import os\n",
    "from tensorflow.keras.callbacks import ModelCheckpoint\n",
    "# define checkpoint path and filename\n",
    "os.makedirs(\"checkpoints_optimization/\",exist_ok=True)\n",
    "checkpoint_path = \"checkpoints_optimization/weights.{epoch:02d}.hdf5\""
   ]
  },
  {
   "cell_type": "code",
   "execution_count": 22,
   "id": "07d0b9f4-8a39-464f-b446-d8b3c58231f8",
   "metadata": {},
   "outputs": [],
   "source": [
    "# Compile the model\n",
    "#  YOUR CODE GOES HERE\n",
    "nn.compile(loss=\"binary_crossentropy\", optimizer=\"adam\", metrics=[\"accuracy\"])"
   ]
  },
  {
   "cell_type": "code",
   "execution_count": 23,
   "id": "e18fe3a7-16de-4b72-b560-f43f73392a09",
   "metadata": {},
   "outputs": [],
   "source": [
    "cp_callback = ModelCheckpoint(\n",
    "    filepath=checkpoint_path,\n",
    "    verbose=1,\n",
    "    save_weights_only=True,\n",
    "    save_freq=4000\n",
    ")"
   ]
  },
  {
   "cell_type": "code",
   "execution_count": 24,
   "id": "38abba59-69d9-444f-9cd6-100f5241abcf",
   "metadata": {},
   "outputs": [
    {
     "name": "stdout",
     "output_type": "stream",
     "text": [
      "Epoch 1/80\n",
      "804/804 [==============================] - 8s 9ms/step - loss: 0.5734 - accuracy: 0.7199\n",
      "Epoch 2/80\n",
      "804/804 [==============================] - 7s 9ms/step - loss: 0.5590 - accuracy: 0.7266\n",
      "Epoch 3/80\n",
      "804/804 [==============================] - 11s 14ms/step - loss: 0.5558 - accuracy: 0.7284\n",
      "Epoch 4/80\n",
      "804/804 [==============================] - 12s 16ms/step - loss: 0.5545 - accuracy: 0.7297\n",
      "Epoch 5/80\n",
      "783/804 [============================>.] - ETA: 0s - loss: 0.5517 - accuracy: 0.7306\n",
      "Epoch 00005: saving model to checkpoints_optimization\\weights.05.hdf5\n",
      "804/804 [==============================] - 14s 17ms/step - loss: 0.5517 - accuracy: 0.7306\n",
      "Epoch 6/80\n",
      "804/804 [==============================] - 13s 17ms/step - loss: 0.5511 - accuracy: 0.7312\n",
      "Epoch 7/80\n",
      "804/804 [==============================] - 13s 16ms/step - loss: 0.5505 - accuracy: 0.7319\n",
      "Epoch 8/80\n",
      "804/804 [==============================] - 13s 16ms/step - loss: 0.5499 - accuracy: 0.7321\n",
      "Epoch 9/80\n",
      "804/804 [==============================] - 12s 15ms/step - loss: 0.5488 - accuracy: 0.7303\n",
      "Epoch 10/80\n",
      "761/804 [===========================>..] - ETA: 0s - loss: 0.5488 - accuracy: 0.7314\n",
      "Epoch 00010: saving model to checkpoints_optimization\\weights.10.hdf5\n",
      "804/804 [==============================] - 12s 15ms/step - loss: 0.5482 - accuracy: 0.7324\n",
      "Epoch 11/80\n",
      "804/804 [==============================] - 12s 15ms/step - loss: 0.5479 - accuracy: 0.7332\n",
      "Epoch 12/80\n",
      "804/804 [==============================] - 13s 16ms/step - loss: 0.5465 - accuracy: 0.7337\n",
      "Epoch 13/80\n",
      "804/804 [==============================] - 13s 17ms/step - loss: 0.5461 - accuracy: 0.7346\n",
      "Epoch 14/80\n",
      "804/804 [==============================] - 14s 17ms/step - loss: 0.5471 - accuracy: 0.7337\n",
      "Epoch 15/80\n",
      "742/804 [==========================>...] - ETA: 1s - loss: 0.5452 - accuracy: 0.7339\n",
      "Epoch 00015: saving model to checkpoints_optimization\\weights.15.hdf5\n",
      "804/804 [==============================] - 13s 17ms/step - loss: 0.5454 - accuracy: 0.7338\n",
      "Epoch 16/80\n",
      "804/804 [==============================] - 14s 17ms/step - loss: 0.5450 - accuracy: 0.7349\n",
      "Epoch 17/80\n",
      "804/804 [==============================] - 13s 17ms/step - loss: 0.5449 - accuracy: 0.7348\n",
      "Epoch 18/80\n",
      "804/804 [==============================] - 14s 17ms/step - loss: 0.5446 - accuracy: 0.7345\n",
      "Epoch 19/80\n",
      "804/804 [==============================] - 14s 17ms/step - loss: 0.5439 - accuracy: 0.7345\n",
      "Epoch 20/80\n",
      "724/804 [==========================>...] - ETA: 1s - loss: 0.5417 - accuracy: 0.7361\n",
      "Epoch 00020: saving model to checkpoints_optimization\\weights.20.hdf5\n",
      "804/804 [==============================] - 14s 18ms/step - loss: 0.5430 - accuracy: 0.7354\n",
      "Epoch 21/80\n",
      "804/804 [==============================] - 14s 17ms/step - loss: 0.5427 - accuracy: 0.7358\n",
      "Epoch 22/80\n",
      "804/804 [==============================] - 14s 17ms/step - loss: 0.5436 - accuracy: 0.7357\n",
      "Epoch 23/80\n",
      "804/804 [==============================] - 14s 17ms/step - loss: 0.5425 - accuracy: 0.7345\n",
      "Epoch 24/80\n",
      "804/804 [==============================] - 14s 17ms/step - loss: 0.5410 - accuracy: 0.7364\n",
      "Epoch 25/80\n",
      "702/804 [=========================>....] - ETA: 1s - loss: 0.5392 - accuracy: 0.7366\n",
      "Epoch 00025: saving model to checkpoints_optimization\\weights.25.hdf5\n",
      "804/804 [==============================] - 14s 17ms/step - loss: 0.5410 - accuracy: 0.7357\n",
      "Epoch 26/80\n",
      "804/804 [==============================] - 14s 17ms/step - loss: 0.5407 - accuracy: 0.7358\n",
      "Epoch 27/80\n",
      "804/804 [==============================] - 14s 17ms/step - loss: 0.5419 - accuracy: 0.7360\n",
      "Epoch 28/80\n",
      "804/804 [==============================] - 14s 18ms/step - loss: 0.5401 - accuracy: 0.7365\n",
      "Epoch 29/80\n",
      "804/804 [==============================] - 14s 17ms/step - loss: 0.5403 - accuracy: 0.7362\n",
      "Epoch 30/80\n",
      "682/804 [========================>.....] - ETA: 2s - loss: 0.5440 - accuracy: 0.7350\n",
      "Epoch 00030: saving model to checkpoints_optimization\\weights.30.hdf5\n",
      "804/804 [==============================] - 14s 17ms/step - loss: 0.5414 - accuracy: 0.7364\n",
      "Epoch 31/80\n",
      "804/804 [==============================] - 14s 17ms/step - loss: 0.5401 - accuracy: 0.7367\n",
      "Epoch 32/80\n",
      "804/804 [==============================] - 14s 18ms/step - loss: 0.5389 - accuracy: 0.7372\n",
      "Epoch 33/80\n",
      "804/804 [==============================] - 14s 18ms/step - loss: 0.5481 - accuracy: 0.7359\n",
      "Epoch 34/80\n",
      "804/804 [==============================] - 15s 18ms/step - loss: 0.5416 - accuracy: 0.7362\n",
      "Epoch 35/80\n",
      "661/804 [=======================>......] - ETA: 2s - loss: 0.5384 - accuracy: 0.7375\n",
      "Epoch 00035: saving model to checkpoints_optimization\\weights.35.hdf5\n",
      "804/804 [==============================] - 14s 17ms/step - loss: 0.5394 - accuracy: 0.7373\n",
      "Epoch 36/80\n",
      "804/804 [==============================] - 14s 17ms/step - loss: 0.5381 - accuracy: 0.7371\n",
      "Epoch 37/80\n",
      "804/804 [==============================] - 14s 17ms/step - loss: 0.5385 - accuracy: 0.7364\n",
      "Epoch 38/80\n",
      "804/804 [==============================] - 14s 17ms/step - loss: 0.5387 - accuracy: 0.7368\n",
      "Epoch 39/80\n",
      "804/804 [==============================] - 14s 17ms/step - loss: 0.5389 - accuracy: 0.7374\n",
      "Epoch 40/80\n",
      "643/804 [======================>.......] - ETA: 2s - loss: 0.5364 - accuracy: 0.7399\n",
      "Epoch 00040: saving model to checkpoints_optimization\\weights.40.hdf5\n",
      "804/804 [==============================] - 14s 18ms/step - loss: 0.5378 - accuracy: 0.7386\n",
      "Epoch 41/80\n",
      "804/804 [==============================] - 14s 18ms/step - loss: 0.5374 - accuracy: 0.7372\n",
      "Epoch 42/80\n",
      "804/804 [==============================] - 14s 17ms/step - loss: 0.5374 - accuracy: 0.7375\n",
      "Epoch 43/80\n",
      "804/804 [==============================] - 14s 18ms/step - loss: 0.5387 - accuracy: 0.7375\n",
      "Epoch 44/80\n",
      "804/804 [==============================] - 14s 17ms/step - loss: 0.5381 - accuracy: 0.7377\n",
      "Epoch 45/80\n",
      "623/804 [======================>.......] - ETA: 3s - loss: 0.5409 - accuracy: 0.7377\n",
      "Epoch 00045: saving model to checkpoints_optimization\\weights.45.hdf5\n",
      "804/804 [==============================] - 14s 17ms/step - loss: 0.5386 - accuracy: 0.7379\n",
      "Epoch 46/80\n",
      "804/804 [==============================] - 14s 18ms/step - loss: 0.5373 - accuracy: 0.7386\n",
      "Epoch 47/80\n",
      "804/804 [==============================] - 14s 17ms/step - loss: 0.5377 - accuracy: 0.7375\n",
      "Epoch 48/80\n",
      "804/804 [==============================] - 14s 18ms/step - loss: 0.5369 - accuracy: 0.7381\n",
      "Epoch 49/80\n",
      "804/804 [==============================] - 14s 18ms/step - loss: 0.5364 - accuracy: 0.7386\n",
      "Epoch 50/80\n",
      "602/804 [=====================>........] - ETA: 3s - loss: 0.5382 - accuracy: 0.7377\n",
      "Epoch 00050: saving model to checkpoints_optimization\\weights.50.hdf5\n",
      "804/804 [==============================] - 14s 18ms/step - loss: 0.5369 - accuracy: 0.7376\n",
      "Epoch 51/80\n",
      "804/804 [==============================] - 14s 18ms/step - loss: 0.5372 - accuracy: 0.7379\n",
      "Epoch 52/80\n",
      "804/804 [==============================] - 14s 17ms/step - loss: 0.5408 - accuracy: 0.7370\n",
      "Epoch 53/80\n",
      "804/804 [==============================] - 14s 17ms/step - loss: 0.5380 - accuracy: 0.7376\n",
      "Epoch 54/80\n",
      "804/804 [==============================] - 14s 17ms/step - loss: 0.5371 - accuracy: 0.7385\n",
      "Epoch 55/80\n",
      "584/804 [====================>.........] - ETA: 4s - loss: 0.5382 - accuracy: 0.7358\n",
      "Epoch 00055: saving model to checkpoints_optimization\\weights.55.hdf5\n",
      "804/804 [==============================] - 15s 18ms/step - loss: 0.5368 - accuracy: 0.7375\n",
      "Epoch 56/80\n",
      "804/804 [==============================] - 14s 18ms/step - loss: 0.6770 - accuracy: 0.7384\n",
      "Epoch 57/80\n",
      "804/804 [==============================] - 14s 17ms/step - loss: 0.5384 - accuracy: 0.7381\n",
      "Epoch 58/80\n",
      "804/804 [==============================] - 14s 17ms/step - loss: 0.5357 - accuracy: 0.7388\n",
      "Epoch 59/80\n",
      "804/804 [==============================] - 14s 18ms/step - loss: 0.5356 - accuracy: 0.7390\n",
      "Epoch 60/80\n",
      "563/804 [====================>.........] - ETA: 4s - loss: 0.5384 - accuracy: 0.7393\n",
      "Epoch 00060: saving model to checkpoints_optimization\\weights.60.hdf5\n",
      "804/804 [==============================] - 14s 18ms/step - loss: 0.5382 - accuracy: 0.7390\n",
      "Epoch 61/80\n",
      "804/804 [==============================] - 14s 17ms/step - loss: 0.5374 - accuracy: 0.7390\n",
      "Epoch 62/80\n",
      "804/804 [==============================] - 14s 17ms/step - loss: 0.5355 - accuracy: 0.7383\n",
      "Epoch 63/80\n",
      "804/804 [==============================] - 14s 17ms/step - loss: 0.5356 - accuracy: 0.7386\n",
      "Epoch 64/80\n",
      "804/804 [==============================] - 14s 18ms/step - loss: 0.5347 - accuracy: 0.7395\n",
      "Epoch 65/80\n",
      "542/804 [===================>..........] - ETA: 4s - loss: 0.5330 - accuracy: 0.7413\n",
      "Epoch 00065: saving model to checkpoints_optimization\\weights.65.hdf5\n",
      "804/804 [==============================] - 14s 18ms/step - loss: 0.5355 - accuracy: 0.7374\n",
      "Epoch 66/80\n",
      "804/804 [==============================] - 14s 18ms/step - loss: 0.5361 - accuracy: 0.7395\n",
      "Epoch 67/80\n",
      "804/804 [==============================] - 14s 17ms/step - loss: 0.5357 - accuracy: 0.7386\n",
      "Epoch 68/80\n",
      "804/804 [==============================] - 14s 17ms/step - loss: 0.5359 - accuracy: 0.7400\n",
      "Epoch 69/80\n",
      "804/804 [==============================] - 14s 17ms/step - loss: 0.5352 - accuracy: 0.7383\n",
      "Epoch 70/80\n",
      "523/804 [==================>...........] - ETA: 4s - loss: 0.5333 - accuracy: 0.7419\n",
      "Epoch 00070: saving model to checkpoints_optimization\\weights.70.hdf5\n",
      "804/804 [==============================] - 14s 17ms/step - loss: 0.5357 - accuracy: 0.7388\n",
      "Epoch 71/80\n",
      "804/804 [==============================] - 14s 17ms/step - loss: 0.5347 - accuracy: 0.7391\n",
      "Epoch 72/80\n",
      "804/804 [==============================] - 14s 18ms/step - loss: 0.5368 - accuracy: 0.7388\n",
      "Epoch 73/80\n",
      "804/804 [==============================] - 14s 17ms/step - loss: 0.5357 - accuracy: 0.7388\n",
      "Epoch 74/80\n",
      "804/804 [==============================] - 14s 18ms/step - loss: 0.5362 - accuracy: 0.7386\n",
      "Epoch 75/80\n",
      "502/804 [=================>............] - ETA: 5s - loss: 0.5359 - accuracy: 0.7404\n",
      "Epoch 00075: saving model to checkpoints_optimization\\weights.75.hdf5\n",
      "804/804 [==============================] - 14s 18ms/step - loss: 0.5348 - accuracy: 0.7393\n",
      "Epoch 76/80\n",
      "804/804 [==============================] - 15s 18ms/step - loss: 0.5344 - accuracy: 0.7392\n",
      "Epoch 77/80\n",
      "804/804 [==============================] - 14s 18ms/step - loss: 0.5349 - accuracy: 0.7391\n",
      "Epoch 78/80\n",
      "804/804 [==============================] - 15s 18ms/step - loss: 0.5779 - accuracy: 0.7389\n",
      "Epoch 79/80\n",
      "804/804 [==============================] - 14s 17ms/step - loss: 0.5365 - accuracy: 0.7365\n",
      "Epoch 80/80\n",
      "482/804 [================>.............] - ETA: 5s - loss: 0.5276 - accuracy: 0.7451\n",
      "Epoch 00080: saving model to checkpoints_optimization\\weights.80.hdf5\n",
      "804/804 [==============================] - 14s 17ms/step - loss: 0.5335 - accuracy: 0.7399\n"
     ]
    }
   ],
   "source": [
    "# Train the model\n",
    "#  YOUR CODE GOES HERE\n",
    "fit_model = nn.fit(X_train_scaled, y_train, epochs=80, callbacks=[cp_callback])"
   ]
  },
  {
   "cell_type": "code",
   "execution_count": 25,
   "id": "6fab49bf-9b4f-42c9-aeff-9816770db01f",
   "metadata": {},
   "outputs": [
    {
     "name": "stdout",
     "output_type": "stream",
     "text": [
      "268/268 - 1s - loss: 0.5882 - accuracy: 0.7305\n",
      "Loss: 0.5881685018539429, Accuracy: 0.7304956316947937\n"
     ]
    }
   ],
   "source": [
    "# Evaluate the model using the test data\n",
    "model_loss, model_accuracy = nn.evaluate(X_test_scaled,y_test,verbose=2)\n",
    "print(f\"Loss: {model_loss}, Accuracy: {model_accuracy}\")"
   ]
  },
  {
   "cell_type": "code",
   "execution_count": 26,
   "id": "d215abd9-eb0b-43d2-a178-253fd5a2cf47",
   "metadata": {},
   "outputs": [
    {
     "data": {
      "text/plain": [
       "<AxesSubplot:>"
      ]
     },
     "execution_count": 26,
     "metadata": {},
     "output_type": "execute_result"
    },
    {
     "data": {
      "image/png": "[encoded data removed]",
      "text/plain": [
       "<Figure size 432x288 with 1 Axes>"
      ]
     },
     "metadata": {
      "needs_background": "light"
     },
     "output_type": "display_data"
    }
   ],
   "source": [
    "# Create a DataFrame containing training history\n",
    "history_df = pd.DataFrame(fit_model.history, index=range(1,len(fit_model.history[\"loss\"])+1))\n",
    "# Plot the accuracy\n",
    "history_df.plot(y=\"accuracy\")"
   ]
  },
  {
   "cell_type": "code",
   "execution_count": 27,
   "id": "bfa59316-2a5f-44b7-98e1-06fa138a1721",
   "metadata": {},
   "outputs": [],
   "source": [
    "# Export our model to HDF5 file\n",
    "nn.save(\"Alphabet_Soup_Charity_Optimized.h5\")"
   ]
  },
  {
   "cell_type": "code",
   "execution_count": 28,
   "id": "3f6a2c9b-88d7-49da-a0dd-f8d66a6280c1",
   "metadata": {},
   "outputs": [
    {
     "data": {
      "text/plain": [
       "'checkpoints_optimization/weights.{epoch:02d}.hdf5'"
      ]
     },
     "execution_count": 28,
     "metadata": {},
     "output_type": "execute_result"
    }
   ],
   "source": [
    "checkpoint_path"
   ]
  },
  {
   "cell_type": "code",
   "execution_count": null,
   "id": "0e426070-a2c6-41fa-9963-ba29f9437423",
   "metadata": {},
   "outputs": [],
   "source": []
  }
 ],
 "metadata": {
  "kernelspec": {
   "display_name": "Python [conda env:root] *",
   "language": "python",
   "name": "conda-root-py"
  },
  "language_info": {
   "codemirror_mode": {
    "name": "ipython",
    "version": 3
   },
   "file_extension": ".py",
   "mimetype": "text/x-python",
   "name": "python",
   "nbconvert_exporter": "python",
   "pygments_lexer": "ipython3",
   "version": "3.8.5"
  }
 },
 "nbformat": 4,
 "nbformat_minor": 5
}
